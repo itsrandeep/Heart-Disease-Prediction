{
 "cells": [
  {
   "cell_type": "code",
   "execution_count": 24,
   "id": "a81dd70b-3f84-45cf-a4aa-a5c9007508ea",
   "metadata": {},
   "outputs": [],
   "source": [
    "import pandas as pd\n",
    "import numpy as np\n",
    "import matplotlib.pyplot as plt\n",
    "from sklearn.base import BaseEstimator, TransformerMixin\n",
    "from sklearn.pipeline import Pipeline\n",
    "from sklearn.preprocessing import StandardScaler, OneHotEncoder\n",
    "from sklearn.compose import ColumnTransformer"
   ]
  },
  {
   "cell_type": "code",
   "execution_count": 2,
   "id": "43b5abff-f5a9-473e-bcad-4adf1fe4d411",
   "metadata": {},
   "outputs": [],
   "source": [
    "train_data = pd.read_csv('data/train_data.csv')\n",
    "test_data = pd.read_csv('data/test_data.csv')"
   ]
  },
  {
   "cell_type": "code",
   "execution_count": 3,
   "id": "45db7973-c922-4b76-87cf-16eb5f620355",
   "metadata": {},
   "outputs": [],
   "source": [
    "# Under sampling the false labels as they are propotinally more than true labels\n",
    "false_labels = train_data[train_data['TenYearCHD'] == 0].sample(1000)\n",
    "true_labels = train_data[train_data['TenYearCHD'] == 1]\n",
    "train_data = pd.concat([true_labels, false_labels])"
   ]
  },
  {
   "cell_type": "markdown",
   "id": "a1cfa067-0b08-4bc3-b887-33e8bd344c0b",
   "metadata": {},
   "source": [
    "# Data Preprocessing"
   ]
  },
  {
   "cell_type": "code",
   "execution_count": 4,
   "id": "04549a06-28a4-41fc-84ba-5ea02ad2a438",
   "metadata": {},
   "outputs": [],
   "source": [
    "train_y = train_data[\"TenYearCHD\"].copy()\n",
    "train_x = train_data.drop(\"TenYearCHD\", axis=1)\n",
    "test_y = test_data[\"TenYearCHD\"].copy()\n",
    "test_x = test_data.drop(\"TenYearCHD\", axis=1)"
   ]
  },
  {
   "cell_type": "code",
   "execution_count": 5,
   "id": "1006dac9-a71e-4017-af08-979f05fec461",
   "metadata": {},
   "outputs": [],
   "source": [
    "def drop_irrelevant_cols(data):\n",
    "    \n",
    "    # 'diabetes', 'BPMeds', 'prevalentStroke' can be dropped as they are highly unbalanced\n",
    "    cols_to_be_deleted = ['diabetes', 'BPMeds', 'prevalentStroke']\n",
    "    # 'currentSmoker' should also be dropped as cigsPerDay already encode it's value\n",
    "    cols_to_be_deleted.append('currentSmoker')\n",
    "    \n",
    "    return data.drop(cols_to_be_deleted, axis = 1)\n",
    "\n",
    "train_x = drop_irrelevant_cols(train_x)\n",
    "test_x = drop_irrelevant_cols(test_x)"
   ]
  },
  {
   "cell_type": "code",
   "execution_count": 6,
   "id": "fd0ca806-7088-41ae-9d44-c3a2130e152e",
   "metadata": {},
   "outputs": [],
   "source": [
    "num_attribs = [\"age\", \"sysBP\", \"diaBP\", \"glucose\", \"totChol\",\"cigsPerDay\", \"BMI\", \"heartRate\"]\n",
    "cat_attribs = ['prevalentHyp', 'male', 'education']"
   ]
  },
  {
   "cell_type": "markdown",
   "id": "6cda4367-8e03-402d-976f-fc7c3a5ff2e8",
   "metadata": {},
   "source": [
    "## Custom Transformer"
   ]
  },
  {
   "cell_type": "code",
   "execution_count": 7,
   "id": "282a6c76-8db0-4b86-b649-25dd02115cb0",
   "metadata": {},
   "outputs": [],
   "source": [
    "class FeatureEngineering(BaseEstimator, TransformerMixin):\n",
    "\n",
    "    def __init__(self, use_age_as_cat_col = False, log_transform_cigsPerDay=False):\n",
    "        self.use_age_as_cat_col = use_age_as_cat_col\n",
    "        self.log_transform_cigsPerDay = log_transform_cigsPerDay\n",
    "\n",
    "    def fit(self, X, y=None):\n",
    "        return self  # nothing to do as for now\n",
    "\n",
    "    def transform(self, X, y=None):\n",
    "        # Use aggregation of sysBP and DiaBP and delete those two columns\n",
    "        X['avgBP'] = X.apply(lambda x:(x['sysBP'] + x['diaBP'])/2, axis=1)\n",
    "        X = X.drop(['sysBP', 'diaBP'], axis = 1)\n",
    "\n",
    "        if self.use_age_as_cat_col:\n",
    "            age_cat = pd.cut(X[\"age\"],\n",
    "                               bins=[ 30, 40, 50, 60, np.inf],\n",
    "                               labels=['30s', '40s', '50s', '60 and above'])\n",
    "            age_cat = pd.get_dummies(age_cat.astype(str), prefix = 'age')\n",
    "            X = X.join(age_cat)\n",
    "            X = X.drop(['age'], axis = 1)\n",
    "\n",
    "        if self.log_transform_cigsPerDay:\n",
    "            X['cigsPerDay'] = (X['cigsPerDay']+1).transform(np.log2)\n",
    "\n",
    "        return np.c_[X]\n",
    "\n",
    "# FeatureEngineering().fit_transform(train_x[num_attribs])[0]"
   ]
  },
  {
   "cell_type": "markdown",
   "id": "2a31dbc9-c2ec-497e-9e2f-4d371abfcc5c",
   "metadata": {},
   "source": [
    "## Pipeline"
   ]
  },
  {
   "cell_type": "code",
   "execution_count": 8,
   "id": "786c0e1b-5ca5-421f-93ea-35c52b1b82ff",
   "metadata": {},
   "outputs": [],
   "source": [
    "num_pipeline = Pipeline([('feature_eng', FeatureEngineering()),\n",
    "                         ('std_scaler', StandardScaler()),])\n",
    "\n",
    "cat_pipeline = Pipeline([('one_hot', OneHotEncoder(drop='if_binary')),])\n",
    "\n",
    "# Can use Pipeline directly to transform but using it in ColumnTransformer\n",
    "# train_x_transformed = num_pipeline.fit_transform(train_x)"
   ]
  },
  {
   "cell_type": "code",
   "execution_count": 9,
   "id": "c08b1c66-3087-4088-bb06-e7317fab746d",
   "metadata": {},
   "outputs": [],
   "source": [
    "full_pipeline = ColumnTransformer([(\"num\", num_pipeline, num_attribs),\n",
    "                                   (\"cat\", cat_pipeline, cat_attribs),])"
   ]
  },
  {
   "cell_type": "code",
   "execution_count": 10,
   "id": "a9712092-33ac-4961-96bc-c14c227c2e88",
   "metadata": {},
   "outputs": [],
   "source": [
    "train_x_prepared = full_pipeline.fit_transform(train_x)"
   ]
  },
  {
   "cell_type": "markdown",
   "id": "27e61ffc-2576-4abe-9a22-27e1f6460ccf",
   "metadata": {},
   "source": [
    "# Select and Train a Model"
   ]
  },
  {
   "cell_type": "code",
   "execution_count": 11,
   "id": "04a1dd1e-ed49-4272-ac99-7057c4d3e30e",
   "metadata": {},
   "outputs": [
    {
     "data": {
      "text/plain": [
       "(0.2702702702702703, 0.26785714285714285, 0.26905829596412556)"
      ]
     },
     "execution_count": 11,
     "metadata": {},
     "output_type": "execute_result"
    }
   ],
   "source": [
    "from sklearn.linear_model import LogisticRegression\n",
    "from sklearn.metrics import precision_score, recall_score, f1_score\n",
    "\n",
    "log_reg = LogisticRegression()\n",
    "log_reg.fit(train_x_prepared, train_y)\n",
    "\n",
    "test_x_prepared = full_pipeline.transform(test_x)\n",
    "predictions =  log_reg.predict(test_x_prepared)\n",
    "\n",
    "precision = precision_score(test_y, predictions, pos_label=1)\n",
    "recall = recall_score(test_y, predictions, pos_label=1)\n",
    "f1 = f1_score(test_y, predictions)\n",
    "precision, recall, f1"
   ]
  },
  {
   "cell_type": "code",
   "execution_count": 12,
   "id": "bee05680-73b7-4788-be80-c46bf7eda900",
   "metadata": {},
   "outputs": [
    {
     "data": {
      "text/plain": [
       "(0.25892857142857145, 0.25892857142857145, 0.25892857142857145)"
      ]
     },
     "execution_count": 12,
     "metadata": {},
     "output_type": "execute_result"
    }
   ],
   "source": [
    "from sklearn.ensemble import RandomForestClassifier\n",
    "\n",
    "forest_classifier = RandomForestClassifier()\n",
    "forest_classifier.fit(train_x_prepared, train_y)\n",
    "\n",
    "predictions =  forest_classifier.predict(test_x_prepared)\n",
    "\n",
    "precision = precision_score(test_y, predictions, pos_label=1)\n",
    "recall = recall_score(test_y, predictions, pos_label=1)\n",
    "f1 = f1_score(test_y, predictions)\n",
    "precision, recall, f1"
   ]
  },
  {
   "cell_type": "markdown",
   "id": "eeabf899-0437-46c5-a4e9-dcc3c68c5ed7",
   "metadata": {},
   "source": [
    "# Better Evaluation Using Cross-Validation"
   ]
  },
  {
   "cell_type": "code",
   "execution_count": 13,
   "id": "f75fa615-45c2-4a63-aaf9-199f93ebd07f",
   "metadata": {},
   "outputs": [
    {
     "data": {
      "text/plain": [
       "array([0.42758621, 0.4057971 , 0.40816327, 0.50684932, 0.44604317])"
      ]
     },
     "execution_count": 13,
     "metadata": {},
     "output_type": "execute_result"
    }
   ],
   "source": [
    "from sklearn.model_selection import cross_val_score\n",
    "\n",
    "scores = cross_val_score(log_reg, train_x_prepared, train_y, scoring=\"f1\", cv=5)\n",
    "scores"
   ]
  },
  {
   "cell_type": "markdown",
   "id": "f6bc0fb4-dae1-441e-a0aa-73086047843e",
   "metadata": {},
   "source": [
    "# Fine-Tune Model Using Grid Search"
   ]
  },
  {
   "cell_type": "code",
   "execution_count": 14,
   "id": "48b7003e-17ef-4794-a591-f56cedbdd683",
   "metadata": {},
   "outputs": [
    {
     "data": {
      "text/plain": [
       "GridSearchCV(cv=5, estimator=RandomForestClassifier(),\n",
       "             param_grid=[{'max_features': [2, 4, 6, 8],\n",
       "                          'n_estimators': [3, 10, 30]}],\n",
       "             return_train_score=True, scoring='f1')"
      ]
     },
     "execution_count": 14,
     "metadata": {},
     "output_type": "execute_result"
    }
   ],
   "source": [
    "from sklearn.model_selection import GridSearchCV\n",
    "\n",
    "param_grid = [{'n_estimators': [3, 10, 30], 'max_features': [2, 4, 6, 8]}]\n",
    "\n",
    "forest_classifier = RandomForestClassifier()\n",
    "\n",
    "grid_search = GridSearchCV(forest_classifier, param_grid, cv=5, scoring='f1',return_train_score=True)\n",
    "grid_search.fit(train_x_prepared, train_y)"
   ]
  },
  {
   "cell_type": "code",
   "execution_count": 15,
   "id": "724fe499-9bbb-4792-9f82-c1fa6a774109",
   "metadata": {},
   "outputs": [
    {
     "data": {
      "text/plain": [
       "{'max_features': 6, 'n_estimators': 30}"
      ]
     },
     "execution_count": 15,
     "metadata": {},
     "output_type": "execute_result"
    }
   ],
   "source": [
    "grid_search.best_params_"
   ]
  },
  {
   "cell_type": "code",
   "execution_count": 16,
   "id": "681b607b-a433-40e3-bdaf-57407a5594cf",
   "metadata": {},
   "outputs": [
    {
     "data": {
      "text/plain": [
       "[(0.1709647207583345, 'age'),\n",
       " (0.15167405306320286, 'BMI'),\n",
       " (0.14160050127624968, 'diaBP'),\n",
       " (0.13652104236506538, 'sysBP'),\n",
       " (0.13410672802545345, 'totChol'),\n",
       " (0.10011964201267284, 'cigsPerDay'),\n",
       " (0.058875660950631924, 'glucose'),\n",
       " (0.02987482652668639, 'heartRate'),\n",
       " (0.023583713791598578, 'avgBP'),\n",
       " (0.016078024134585495, 0),\n",
       " (0.014065683608842486, 1)]"
      ]
     },
     "execution_count": 16,
     "metadata": {},
     "output_type": "execute_result"
    }
   ],
   "source": [
    "feature_importances = grid_search.best_estimator_.feature_importances_\n",
    "\n",
    "extra_attribs = [\"avgBP\"]\n",
    "\n",
    "cat_encoder = full_pipeline.named_transformers_[\"cat\"].steps[0][1]\n",
    "cat_one_hot_attribs = list(cat_encoder.categories_[0])\n",
    "attributes = num_attribs + extra_attribs + cat_one_hot_attribs\n",
    "# Categorical Columns were already labelEncoded so need to figure out way to represent them \n",
    "sorted(zip(feature_importances, attributes), reverse=True)"
   ]
  },
  {
   "cell_type": "markdown",
   "id": "ff9453a1-711d-4281-83f4-e68e25aadd1d",
   "metadata": {},
   "source": [
    "# Evaluation of Classification Models"
   ]
  },
  {
   "cell_type": "code",
   "execution_count": 17,
   "id": "0f47e82a-f4f0-4f9a-9617-aa087168d04a",
   "metadata": {},
   "outputs": [],
   "source": [
    "from sklearn.model_selection import cross_val_predict\n",
    "y_train_pred = cross_val_predict(log_reg, train_x_prepared, train_y, cv=3)"
   ]
  },
  {
   "cell_type": "code",
   "execution_count": 43,
   "id": "4765383e-8b07-4a04-8dec-d58002d1987f",
   "metadata": {},
   "outputs": [
    {
     "data": {
      "text/plain": [
       "array([[885, 115],\n",
       "       [287, 158]])"
      ]
     },
     "execution_count": 43,
     "metadata": {},
     "output_type": "execute_result"
    }
   ],
   "source": [
    "from sklearn.metrics import confusion_matrix\n",
    "# Each row in a confusion matrix represents an actual class, while each column represents a predicted class.\n",
    "conf_mx = confusion_matrix(train_y, y_train_pred)\n",
    "conf_mx"
   ]
  },
  {
   "cell_type": "code",
   "execution_count": 41,
   "id": "1358ad2b-d33a-4467-ab9b-00a6f86b4db5",
   "metadata": {},
   "outputs": [
    {
     "data": {
      "text/plain": [
       "array([[1000,    0],\n",
       "       [   0,  445]])"
      ]
     },
     "execution_count": 41,
     "metadata": {},
     "output_type": "execute_result"
    }
   ],
   "source": [
    "# Perfect Confusion Matrix looks like\n",
    "confusion_matrix(train_y, train_y)"
   ]
  },
  {
   "cell_type": "code",
   "execution_count": 45,
   "id": "de81f911-6a93-400c-a50a-942aaf65b098",
   "metadata": {},
   "outputs": [
    {
     "data": {
      "image/png": "[encoded data removed]",
      "text/plain": [
       "<Figure size 288x288 with 1 Axes>"
      ]
     },
     "metadata": {
      "needs_background": "light"
     },
     "output_type": "display_data"
    }
   ],
   "source": [
    "plt.matshow(conf_mx, cmap=plt.cm.gray)\n",
    "plt.show()"
   ]
  },
  {
   "cell_type": "code",
   "execution_count": 50,
   "id": "b6ba28b2-3384-43f0-ad82-b779307ccdcb",
   "metadata": {},
   "outputs": [
    {
     "data": {
      "image/png": "[encoded data removed]",
      "text/plain": [
       "<Figure size 432x288 with 1 Axes>"
      ]
     },
     "metadata": {
      "needs_background": "light"
     },
     "output_type": "display_data"
    }
   ],
   "source": [
    "from sklearn.metrics import precision_recall_curve\n",
    "\n",
    "y_scores = cross_val_predict(log_reg, train_x_prepared, train_y, cv=3, method=\"decision_function\")\n",
    "precisions, recalls, thresholds = precision_recall_curve(train_y, y_scores)\n",
    "\n",
    "def plot_precision_recall_vs_threshold(precisions, recalls, thresholds):\n",
    "    plt.plot(thresholds, precisions[:-1], \"b--\", label=\"Precision\")\n",
    "    plt.plot(thresholds, recalls[:-1], \"g-\", label=\"Recall\")\n",
    "    plt.legend(loc=\"center right\", fontsize=16) # Not shown in the book\n",
    "    plt.xlabel(\"Threshold\", fontsize=16)        # Not shown\n",
    "    plt.grid(True)                              # Not shown\n",
    "\n",
    "plot_precision_recall_vs_threshold(precisions, recalls, thresholds)\n",
    "plt.show()"
   ]
  },
  {
   "cell_type": "code",
   "execution_count": 55,
   "id": "b1ecc541-e6b7-4f04-b669-dd7c69145075",
   "metadata": {},
   "outputs": [
    {
     "data": {
      "image/png": "[encoded data removed]",
      "text/plain": [
       "<Figure size 576x288 with 1 Axes>"
      ]
     },
     "metadata": {
      "needs_background": "light"
     },
     "output_type": "display_data"
    }
   ],
   "source": [
    "recall_80_precision = recalls[np.argmax(precisions >= 0.80)]\n",
    "threshold_80_precision = thresholds[np.argmax(precisions >= 0.80)]\n",
    "\n",
    "\n",
    "plt.figure(figsize=(8, 4))\n",
    "plot_precision_recall_vs_threshold(precisions, recalls, thresholds)\n",
    "plt.plot([threshold_80_precision, threshold_80_precision], [0., 0.8], \"r:\")             \n",
    "plt.plot([-4, threshold_80_precision], [0.8, 0.8], \"r:\")                             \n",
    "plt.plot([-4, threshold_80_precision], [recall_80_precision, recall_80_precision], \"r:\")\n",
    "plt.plot([threshold_80_precision], [0.8], \"ro\")\n",
    "plt.plot([threshold_80_precision], [recall_80_precision], \"ro\")\n",
    "plt.show()"
   ]
  },
  {
   "cell_type": "code",
   "execution_count": 32,
   "id": "f34f13ff-ace4-428a-b867-3f48bc3c6a98",
   "metadata": {},
   "outputs": [
    {
     "data": {
      "text/plain": [
       "(0.8, 0.0449438202247191)"
      ]
     },
     "execution_count": 32,
     "metadata": {},
     "output_type": "execute_result"
    }
   ],
   "source": [
    "threshold_80_precision = thresholds[np.argmax(precisions >= 0.80)] # ~1.3\n",
    "\n",
    "y_train_pred_80 = (y_scores >= threshold_80_precision)\n",
    "precision_score(train_y, y_train_pred_80), recall_score(train_y, y_train_pred_80)"
   ]
  },
  {
   "cell_type": "code",
   "execution_count": 36,
   "id": "eba00b95-822e-4eb0-b821-bc3a4f969b05",
   "metadata": {},
   "outputs": [
    {
     "data": {
      "image/png": "[encoded data removed]",
      "text/plain": [
       "<Figure size 432x288 with 1 Axes>"
      ]
     },
     "metadata": {
      "needs_background": "light"
     },
     "output_type": "display_data"
    }
   ],
   "source": [
    "from sklearn.metrics import roc_curve\n",
    "fpr, tpr, thresholds = roc_curve(train_y, y_scores)\n",
    "\n",
    "def plot_roc_curve(fpr, tpr, label=None):\n",
    "    plt.plot(fpr, tpr, linewidth=2, label=label)\n",
    "    plt.plot([0, 1], [0, 1], 'k--') # dashed diagonal\n",
    "    plt.xlabel(\"False Positive Rate\")\n",
    "    plt.ylabel(\"True Positive Rate (Recall)\")\n",
    "\n",
    "plot_roc_curve(fpr, tpr)\n",
    "plt.show()"
   ]
  },
  {
   "cell_type": "code",
   "execution_count": 37,
   "id": "cb5e2f76-5152-450f-9105-7fa1aee0bd95",
   "metadata": {},
   "outputs": [
    {
     "data": {
      "text/plain": [
       "0.7470382022471911"
      ]
     },
     "execution_count": 37,
     "metadata": {},
     "output_type": "execute_result"
    }
   ],
   "source": [
    "from sklearn.metrics import roc_auc_score\n",
    "# As we can visually see in plot too Area Under Curve is very less, So model performance is bad.\n",
    "roc_auc_score(train_y, y_scores)"
   ]
  },
  {
   "cell_type": "markdown",
   "id": "3624e95b-edea-4268-aec6-86a862429c3a",
   "metadata": {},
   "source": [
    "## Compare 2 diffrent models using ROC curve"
   ]
  },
  {
   "cell_type": "code",
   "execution_count": 39,
   "id": "906ceded-2472-4745-9170-d626a69bcf9c",
   "metadata": {},
   "outputs": [
    {
     "data": {
      "image/png": "[encoded data removed]",
      "text/plain": [
       "<Figure size 432x288 with 1 Axes>"
      ]
     },
     "metadata": {
      "needs_background": "light"
     },
     "output_type": "display_data"
    }
   ],
   "source": [
    "y_probas_forest = cross_val_predict(forest_classifier, train_x_prepared, train_y, cv=3, method=\"predict_proba\")\n",
    "# to plot a ROC curve, you need scores, not probabilities. A simple solution is to use the positive class’s probability as the score:\n",
    "y_scores_forest = y_probas_forest[:, 1] # score = proba of positive class\n",
    "\n",
    "fpr_forest, tpr_forest, thresholds_forest = roc_curve(train_y,y_scores_forest)\n",
    "\n",
    "plt.plot(fpr, tpr, \"b:\", label=\"Logistic Regression\")\n",
    "plot_roc_curve(fpr_forest, tpr_forest, \"Random Forest\")\n",
    "plt.legend(loc=\"lower right\")\n",
    "plt.show()"
   ]
  }
 ],
 "metadata": {
  "kernelspec": {
   "display_name": "Python 3",
   "language": "python",
   "name": "python3"
  },
  "language_info": {
   "codemirror_mode": {
    "name": "ipython",
    "version": 3
   },
   "file_extension": ".py",
   "mimetype": "text/x-python",
   "name": "python",
   "nbconvert_exporter": "python",
   "pygments_lexer": "ipython3",
   "version": "3.8.5"
  }
 },
 "nbformat": 4,
 "nbformat_minor": 5
}
